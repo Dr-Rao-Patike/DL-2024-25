{
  "nbformat": 4,
  "nbformat_minor": 0,
  "metadata": {
    "colab": {
      "provenance": [],
      "mount_file_id": "1K6TuKWwKMlWPP433BaMCa9WU4f_rlmfy",
      "authorship_tag": "ABX9TyNfS30KFjVtddalxt6MkLfi",
      "include_colab_link": true
    },
    "kernelspec": {
      "name": "python3",
      "display_name": "Python 3"
    },
    "language_info": {
      "name": "python"
    }
  },
  "cells": [
    {
      "cell_type": "markdown",
      "metadata": {
        "id": "view-in-github",
        "colab_type": "text"
      },
      "source": [
        "<a href=\"https://colab.research.google.com/github/Dr-Rao-Patike/DL-2024-25/blob/main/deep_learning_l2.ipynb\" target=\"_parent\"><img src=\"https://colab.research.google.com/assets/colab-badge.svg\" alt=\"Open In Colab\"/></a>"
      ]
    },
    {
      "cell_type": "code",
      "execution_count": null,
      "metadata": {
        "colab": {
          "base_uri": "https://localhost:8080/"
        },
        "id": "d-sh99XNXWy_",
        "outputId": "02cb72bd-b355-46e0-9176-95432bf8eb1e"
      },
      "outputs": [
        {
          "output_type": "stream",
          "name": "stdout",
          "text": [
            "Scalar value: 5\n"
          ]
        }
      ],
      "source": [
        "import numpy as np\n",
        "\n",
        "# Scalar example\n",
        "scalar = np.array(5)\n",
        "print(\"Scalar value:\", scalar)\n"
      ]
    },
    {
      "cell_type": "code",
      "source": [
        "# Vector example\n",
        "vector = np.array([1, 2, 3])\n",
        "print(\"Vector values:\", vector)\n"
      ],
      "metadata": {
        "colab": {
          "base_uri": "https://localhost:8080/"
        },
        "id": "YWxcD6DVXud8",
        "outputId": "1660a3bd-5387-4fb3-c354-ccca09a589b9"
      },
      "execution_count": null,
      "outputs": [
        {
          "output_type": "stream",
          "name": "stdout",
          "text": [
            "Vector values: [1 2 3]\n"
          ]
        }
      ]
    },
    {
      "cell_type": "code",
      "source": [
        "import numpy as np\n",
        "\n",
        "# Scalar example\n",
        "scalar = np.array(5)\n",
        "print(\"Scalar value:\", scalar)\n",
        "\n",
        "# Vector example\n",
        "vector = np.array([1, 2, 3])\n",
        "print(\"Vector values:\", vector)\n",
        "\n",
        "# 2D Tensor (Matrix) example\n",
        "matrix = np.array([[1, 2, 3], [4, 5, 6]])\n",
        "print(\"2D Tensor (Matrix):\\n\", matrix)\n",
        "\n",
        "# 3D Tensor example\n",
        "tensor_3d = np.array([[[1, 2, 3], [4, 5, 6]], [[7, 8, 9], [10, 11, 12]]])\n",
        "print(\"3D Tensor:\\n\", tensor_3d)\n",
        "\n",
        "# 4D Tensor example\n",
        "tensor_4d = np.random.rand(2, 3, 4, 5)\n",
        "print(\"Shape of 4D Tensor:\", tensor_4d.shape)\n"
      ],
      "metadata": {
        "colab": {
          "base_uri": "https://localhost:8080/"
        },
        "id": "7Yk3iTZXX1Ka",
        "outputId": "2eceba7b-31e3-498d-c25f-651852974d2e"
      },
      "execution_count": null,
      "outputs": [
        {
          "output_type": "stream",
          "name": "stdout",
          "text": [
            "Scalar value: 5\n",
            "Vector values: [1 2 3]\n",
            "2D Tensor (Matrix):\n",
            " [[1 2 3]\n",
            " [4 5 6]]\n",
            "3D Tensor:\n",
            " [[[ 1  2  3]\n",
            "  [ 4  5  6]]\n",
            "\n",
            " [[ 7  8  9]\n",
            "  [10 11 12]]]\n",
            "Shape of 4D Tensor: (2, 3, 4, 5)\n"
          ]
        }
      ]
    }
  ]
}